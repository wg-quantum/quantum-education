{
 "cells": [
  {
   "cell_type": "code",
   "execution_count": null,
   "metadata": {
    "id": "Sfx5mNfHPLCv"
   },
   "outputs": [],
   "source": [
    "! pip install qiskit"
   ]
  },
  {
   "cell_type": "markdown",
   "metadata": {
    "id": "17NbSH9b_-dY"
   },
   "source": [
    "KMEANSアルゴリズムの量子コンピュータ実装<br>\n",
    "* 振幅符号化を使った実装サンプルコード\n"
   ]
  },
  {
   "cell_type": "code",
   "execution_count": 5,
   "metadata": {
    "id": "iVHYk1sT_35X"
   },
   "outputs": [],
   "source": [
    "# qiskit import\n",
    "from qiskit import *\n",
    "from qiskit.tools.visualization import *\n",
    "from qiskit.quantum_info import state_fidelity, process_fidelity\n",
    "\n",
    "# 必要なライブラリをimportする\n",
    "import pandas as pd\n",
    "import numpy as np\n",
    "import scipy.stats\n",
    "import matplotlib.pyplot as plt\n",
    "from sklearn import datasets\n",
    "from sklearn import preprocessing\n",
    "import seaborn as sns\n",
    "import copy\n",
    "import math\n",
    "import os\n"
   ]
  },
  {
   "cell_type": "markdown",
   "metadata": {
    "id": "ECOBump4TGGg"
   },
   "source": [
    "amp_def: データを振幅値に変換"
   ]
  },
  {
   "cell_type": "code",
   "execution_count": 6,
   "metadata": {
    "id": "4nyHn4B5Yw10"
   },
   "outputs": [],
   "source": [
    "def amp_def(X):\n",
    "  X_size,X_features = X.shape\n",
    "  # 出力用配列の初期化\n",
    "  amp_X = np.zeros((X_size, X_features),dtype=np.float64)\n",
    "  # 入力配列を振幅値に変換する\n",
    "  for i in range(X_size):\n",
    "    if np.sum(X[i,:]) == 0:\n",
    "      X[i,:] += 1\n",
    "    amp_X[i,:] = X[i,:] / math.sqrt(np.sum(X[i,:] ** 2)) \n",
    "  return amp_X"
   ]
  },
  {
   "cell_type": "markdown",
   "metadata": {
    "id": "5gGooLYknmI6"
   },
   "source": [
    "符号化した量子ビットのstateの一致度で判定するQMEANS<br>\n",
    "多次元データセット対応バージョン：4次元数"
   ]
  },
  {
   "cell_type": "code",
   "execution_count": 16,
   "metadata": {
    "id": "OTZskUr0nkSU"
   },
   "outputs": [],
   "source": [
    "# Quantum means処理の定義  ：Fidelityで判別する\n",
    "def qmeans_amp_F(k,X,max_iter=1000,v=0.05):\n",
    "  X_size,n_features = X.shape\n",
    "  # 初期値を平均と分散から決定する\n",
    "  # mean = np.mean(X, axis = 0)\n",
    "  # std = np.std(X, axis = 0)\n",
    "  # centroids  = np.random.randn(k,n_features)*std + mean\n",
    "  for i in range(k):\n",
    "      if i > 0:\n",
    "          centroids = np.append(centroids,X[np.random.choice(X_size,1,replace=False),:],axis=0)\n",
    "      else:\n",
    "          centroids = X[np.random.choice(X_size,1,replace=False),:]\n",
    "  # 入力配列を振幅値へ変換\n",
    "  X_amp = amp_def(X)\n",
    "  centroids_amp = amp_def(centroids)\n",
    "  # 中心点比較用の配列準備\n",
    "  new_centroids = np.zeros((k, n_features))\n",
    "  # クラスターラベル配列準備\n",
    "  label_c = np.zeros(X_size)\n",
    "  # ループ上限回数まで繰り返し\n",
    "  for epoch in range(max_iter):\n",
    "      #  print(\"epoch=\",epoch)     # for debug\n",
    "      for e in range(X_size):\n",
    "        # Input data の符号化とstate取得\n",
    "        q0 = QuantumRegister(2)        \n",
    "        qc0 = QuantumCircuit(q0)\n",
    "        initial_state_q0 = X_amp[e,:]\n",
    "        qc0.initialize(initial_state_q0, [q0[0],q0[1]])\n",
    "        backend = BasicAer.get_backend('statevector_simulator')\n",
    "        job0 = backend.run(transpile(qc0, backend))\n",
    "        qc_state0 = job0.result().get_statevector(qc0)\n",
    "        # print(qc_state0) \n",
    "        f_dim = np.zeros(k)\n",
    "        # cluster=0 との比較\n",
    "        initial_state_q1 = centroids_amp[0,:]\n",
    "        q1 = QuantumRegister(2)\n",
    "        qc1 = QuantumCircuit(q1)\n",
    "        qc1.initialize(initial_state_q1,[q1[0],q1[1]])\n",
    "        job1 = backend.run(transpile(qc1, backend))\n",
    "        qc_state1 = job1.result().get_statevector(qc1)    \n",
    "        # print(qc_state1)\n",
    "        f_dim[0] = state_fidelity(qc_state0, qc_state1)\n",
    "        # cluster=1 との比較\n",
    "        initial_state_q2 = centroids_amp[1,:]\n",
    "        q2 = QuantumRegister(2)\n",
    "        qc2 = QuantumCircuit(q2)\n",
    "        qc2.initialize(initial_state_q2,[q2[0],q2[1]])\n",
    "        job2 = backend.run(transpile(qc2, backend))\n",
    "        qc_state2 = job2.result().get_statevector(qc2)    \n",
    "        # print(qc_state2)\n",
    "        f_dim[1] = state_fidelity(qc_state0, qc_state2)\n",
    "        # cluster=2 との比較\n",
    "        initial_state_q3 = centroids_amp[2,:]\n",
    "        q3 = QuantumRegister(2)\n",
    "        qc3 = QuantumCircuit(q3)\n",
    "        qc3.initialize(initial_state_q3,[q3[0],q3[1]])\n",
    "        job3 = backend.run(transpile(qc3, backend))\n",
    "        qc_state3 = job3.result().get_statevector(qc3)    \n",
    "        # print(qc_state3)\n",
    "        f_dim[2] = state_fidelity(qc_state0, qc_state3)\n",
    "        # fedelity state の最大値インデックスをlabelにする\n",
    "        label_c[e] = np.argmax(f_dim)\n",
    "        df_s = pd.DataFrame(f_dim,columns=['fedelity'])\n",
    "        df_s.to_csv('../content/data/swaptest.csv',mode='a')\n",
    "\n",
    "      # 新しい中心点を算出\n",
    "      for j in range(k):\n",
    "           new_centroids[j] = X[label_c==j,:].mean(axis=0)\n",
    "      # print(\"centroids=\",centroids)\n",
    "      # print(\"new centroids=\",new_centroids)\n",
    "      # 欠損値は平均に置き換え\n",
    "      new_centroids = np.nan_to_num(new_centroids, np.nanmean(X))\n",
    "      error = np.linalg.norm(new_centroids - centroids)\n",
    "      print(\"centroids deff =\", error, file=myfile)\n",
    "      # 中心点の変化が変数vより小さければ終了\n",
    "      if float(error) < float(v) :\n",
    "           print(\"break\")\n",
    "           break\n",
    "      df_c = pd.DataFrame(centroids,columns=['c1','c2','c3','c4'])\n",
    "      df_c.to_csv('../content/data/centroids_hist.csv',mode='a')\n",
    "      centroids =  copy.copy(new_centroids)\n",
    "      centroids_amp = amp_def(centroids)\n",
    "      print(\"new_centroids=\",centroids_amp)\n",
    "  return label_c,centroids_amp"
   ]
  },
  {
   "cell_type": "markdown",
   "metadata": {
    "id": "F0SPSPBu6_hm"
   },
   "source": [
    "クラスタリングデータの準備"
   ]
  },
  {
   "cell_type": "code",
   "execution_count": 19,
   "metadata": {
    "colab": {
     "base_uri": "https://localhost:8080/",
     "height": 783
    },
    "id": "Y3183kd2A5Ff",
    "outputId": "690a1286-ccaf-4769-85fa-a6ca4397614e"
   },
   "outputs": [
    {
     "name": "stdout",
     "output_type": "stream",
     "text": [
      "Index(['sepal length (cm)', 'sepal width (cm)', 'petal length (cm)',\n",
      "       'petal width (cm)', 'label'],\n",
      "      dtype='object')\n",
      "   sepal length (cm)  sepal width (cm)  ...  petal width (cm)  label\n",
      "0                5.1               3.5  ...               0.2      0\n",
      "1                4.9               3.0  ...               0.2      0\n",
      "2                4.7               3.2  ...               0.2      0\n",
      "3                4.6               3.1  ...               0.2      0\n",
      "4                5.0               3.6  ...               0.2      0\n",
      "5                5.4               3.9  ...               0.4      0\n",
      "6                4.6               3.4  ...               0.3      0\n",
      "7                5.0               3.4  ...               0.2      0\n",
      "8                4.4               2.9  ...               0.2      0\n",
      "9                4.9               3.1  ...               0.1      0\n",
      "\n",
      "[10 rows x 5 columns]\n",
      "       sepal length (cm)  sepal width (cm)  ...  petal width (cm)       label\n",
      "count         150.000000        150.000000  ...        150.000000  150.000000\n",
      "mean            5.843333          3.057333  ...          1.199333    1.000000\n",
      "std             0.828066          0.435866  ...          0.762238    0.819232\n",
      "min             4.300000          2.000000  ...          0.100000    0.000000\n",
      "25%             5.100000          2.800000  ...          0.300000    0.000000\n",
      "50%             5.800000          3.000000  ...          1.300000    1.000000\n",
      "75%             6.400000          3.300000  ...          1.800000    2.000000\n",
      "max             7.900000          4.400000  ...          2.500000    2.000000\n",
      "\n",
      "[8 rows x 5 columns]\n"
     ]
    },
    {
     "data": {
      "text/plain": [
       "<matplotlib.axes._subplots.AxesSubplot at 0x7fa9dc617410>"
      ]
     },
     "execution_count": 19,
     "metadata": {},
     "output_type": "execute_result"
    },
    {
     "data": {
      "image/png": "[encoded data removed]",
      "text/plain": [
       "<Figure size 432x288 with 1 Axes>"
      ]
     },
     "metadata": {
      "needs_background": "light"
     },
     "output_type": "display_data"
    }
   ],
   "source": [
    "# irisデータセットを読み込み\n",
    "iris = datasets.load_iris()       # irisを読み込む関数\n",
    "df = pd.DataFrame(        \n",
    "    iris.data,                    # データフレームの要素\n",
    "    columns = iris.feature_names  # 各列の名前に特徴名を使う\n",
    ")\n",
    "df[\"label\"] = iris.target         # わかりやすくするためにlabel列を追加\n",
    " \n",
    "print(df.columns)                 #  カラムの表示\n",
    "print(df.head(10))                #　最初の10行表示　　最後のデータはtail\n",
    "print(df.describe())              # データフレーム要約統計量\n",
    "\n",
    "sns.scatterplot(x='petal length (cm)', y='petal width (cm)',hue='label', data=df)  #　データ可視化"
   ]
  },
  {
   "cell_type": "markdown",
   "metadata": {
    "id": "iNtpSbFF32bn"
   },
   "source": [
    "irisデータセットの4項目をそのままインプットにする<br>\n",
    "振幅値へ変換する"
   ]
  },
  {
   "cell_type": "code",
   "execution_count": null,
   "metadata": {
    "id": "nW5JyQWK25b8"
   },
   "outputs": [],
   "source": [
    "# numpy arrayに変換  labelを除外\n",
    "np_iris = df[['sepal length (cm)', 'sepal width (cm)', 'petal length (cm)','petal width (cm)']].to_numpy(copy=True)\n",
    "# 振幅値に変換する\n",
    "iris_amp = amp_def(np_iris)\n",
    "# print(iris_amp)"
   ]
  },
  {
   "cell_type": "code",
   "execution_count": 17,
   "metadata": {
    "colab": {
     "base_uri": "https://localhost:8080/"
    },
    "id": "F3DvUREY4dg9",
    "outputId": "15ba2841-869c-40aa-91d4-287fc9611542"
   },
   "outputs": [
    {
     "name": "stdout",
     "output_type": "stream",
     "text": [
      "new_centroids= [[0.8020181  0.54786919 0.23466576 0.03922104]\n",
      " [0.7369672  0.32012073 0.56718973 0.18082554]\n",
      " [0.71309809 0.35862771 0.56414589 0.21122666]]\n",
      "break\n"
     ]
    }
   ],
   "source": [
    "# ログファイルの前処理\n",
    "import os\n",
    "os.makedirs('../content/data', exist_ok=True)\n",
    "if os.path.exists('../content/data/swaptest.csv') == True:\n",
    "  os.remove('../content/data/swaptest.csv')\n",
    "if os.path.exists('../content/data/centroids_hist.csv') == True:\n",
    "  os.remove('../content/data/centroids_hist.csv')\n",
    "if os.path.exists('../content/data/nd_iris_scale.txt') == True:\n",
    "  os.remove('../content/data/nd_iris_scale.txt')\n",
    "np.savetxt('../content/data/nd_iris_scale.txt', iris_amp)\n",
    "\n",
    "# ログファイルのオープン\n",
    "myfile = open(\"../content/data/sysout.txt\", \"w\")\n",
    "\n",
    "# qmeans実行\n",
    "label_c,centroids_amp=qmeans_amp_F(3,iris_amp,max_iter=2,v=0.05)\n",
    "\n",
    "# ログファイルのクローズ\n",
    "myfile.close()"
   ]
  },
  {
   "cell_type": "code",
   "execution_count": 20,
   "metadata": {
    "colab": {
     "base_uri": "https://localhost:8080/",
     "height": 297
    },
    "id": "3U1s_ybj62Gz",
    "outputId": "3b68522f-b36b-45f9-84e8-20d639af526e"
   },
   "outputs": [
    {
     "data": {
      "text/plain": [
       "<matplotlib.axes._subplots.AxesSubplot at 0x7fa9dc6e9890>"
      ]
     },
     "execution_count": 20,
     "metadata": {},
     "output_type": "execute_result"
    },
    {
     "data": {
      "image/png": "[encoded data removed]",
      "text/plain": [
       "<Figure size 432x288 with 1 Axes>"
      ]
     },
     "metadata": {
      "needs_background": "light"
     },
     "output_type": "display_data"
    }
   ],
   "source": [
    "# 多次元クラスタリング結果表示\n",
    "# クラスタリング結果の可視化 : petal length , petal width \n",
    "df_cluster = pd.DataFrame(label_c,columns=['label_c'])\n",
    "df_plot = pd.concat([df,df_cluster],axis=1)\n",
    "sns.scatterplot(x='petal length (cm)', y='petal width (cm)',hue='label_c', data=df_plot)  #　データ可視化"
   ]
  }
 ],
 "metadata": {
  "colab": {
   "collapsed_sections": [],
   "name": "量子クラスタリング_ＱMEANS_Fidelity版_多次元",
   "provenance": []
  },
  "kernelspec": {
   "display_name": "Python 3",
   "language": "python",
   "name": "python3"
  },
  "language_info": {
   "codemirror_mode": {
    "name": "ipython",
    "version": 3
   },
   "file_extension": ".py",
   "mimetype": "text/x-python",
   "name": "python",
   "nbconvert_exporter": "python",
   "pygments_lexer": "ipython3",
   "version": "3.6.10"
  }
 },
 "nbformat": 4,
 "nbformat_minor": 1
}
